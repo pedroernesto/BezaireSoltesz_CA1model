{
 "cells": [
  {
   "cell_type": "code",
   "execution_count": null,
   "metadata": {},
   "outputs": [],
   "source": [
    "#!pip install -q sciunit==0.2.3"
   ]
  },
  {
   "cell_type": "code",
   "execution_count": 1,
   "metadata": {},
   "outputs": [
    {
     "name": "stderr",
     "output_type": "stream",
     "text": [
      "In /home/pedroernesto/anaconda3/lib/python3.7/site-packages/matplotlib/mpl-data/stylelib/_classic_test.mplstyle: \n",
      "The text.latex.unicode rcparam was deprecated in Matplotlib 3.0 and will be removed in 3.2.\n",
      "In /home/pedroernesto/anaconda3/lib/python3.7/site-packages/matplotlib/mpl-data/stylelib/_classic_test.mplstyle: \n",
      "The savefig.frameon rcparam was deprecated in Matplotlib 3.1 and will be removed in 3.3.\n",
      "In /home/pedroernesto/anaconda3/lib/python3.7/site-packages/matplotlib/mpl-data/stylelib/_classic_test.mplstyle: \n",
      "The pgf.debug rcparam was deprecated in Matplotlib 3.0 and will be removed in 3.2.\n",
      "In /home/pedroernesto/anaconda3/lib/python3.7/site-packages/matplotlib/mpl-data/stylelib/_classic_test.mplstyle: \n",
      "The verbose.level rcparam was deprecated in Matplotlib 3.1 and will be removed in 3.3.\n",
      "In /home/pedroernesto/anaconda3/lib/python3.7/site-packages/matplotlib/mpl-data/stylelib/_classic_test.mplstyle: \n",
      "The verbose.fileo rcparam was deprecated in Matplotlib 3.1 and will be removed in 3.3.\n"
     ]
    }
   ],
   "source": [
    "import sciunit\n",
    "import numpy as np\n",
    "\n",
    "import os\n",
    "import json\n",
    "import matplotlib\n",
    "# To avoid figures being plotted on screen (we wish to save to file directly)\n",
    "# matplotlib.use('Agg')\n",
    "import matplotlib.pyplot as plt"
   ]
  },
  {
   "cell_type": "markdown",
   "metadata": {},
   "source": [
    "# Load the Observation data"
   ]
  },
  {
   "cell_type": "code",
   "execution_count": null,
   "metadata": {},
   "outputs": [],
   "source": [
    "def format_observation(observation_path=None):\n",
    "        \n",
    "    #self.observation_path = observation_path\n",
    "    #self.observation_key = observation_key\n",
    "\n",
    "    load_data=m.load(observation_path)\n",
    "    observation_key = list(load_data.keys())[0]\n",
    "    observation = {observation_key: np.array(load_data[observation_key])}\n",
    "   \n",
    "    return observation"
   ]
  },
  {
   "cell_type": "code",
   "execution_count": null,
   "metadata": {},
   "outputs": [],
   "source": [
    "# observation=format_observation(observation_path='')"
   ]
  },
  {
   "cell_type": "code",
   "execution_count": null,
   "metadata": {},
   "outputs": [],
   "source": [
    "observation_key = list(observation.keys())[0]\n",
    "plt.plot(observation[observation_key])"
   ]
  },
  {
   "cell_type": "markdown",
   "metadata": {},
   "source": [
    "# Define the Model capability"
   ]
  },
  {
   "cell_type": "code",
   "execution_count": 5,
   "metadata": {},
   "outputs": [],
   "source": [
    "class cap_generates_spikeraster(sciunit.Capability):\n",
    "    \"\"\"Indicates that the model has a spike raster as output. \"\"\"\n",
    "    \n",
    "    def model_prediction(self):\n",
    "        ...\n",
    "        raise NotImplementedError()\n",
    "       \n",
    "    def get_spikeraster(self):\n",
    "        \"\"\"This function is called by the test, and then the model_prediction function\"\"\"            \n",
    "        spikeraster = self.spikeraster\n",
    "        return spikeraster"
   ]
  },
  {
   "cell_type": "markdown",
   "metadata": {},
   "source": [
    "# Define the Model class"
   ]
  },
  {
   "cell_type": "code",
   "execution_count": 6,
   "metadata": {},
   "outputs": [],
   "source": [
    "class BezaireSoltesz_CA1model(sciunit.Model,cap_generates_spikeraster):\n",
    "    \n",
    "    def __init__(self, model_path = '../modeldbca1', results_dir='results', run_dir=None):\n",
    "        sciunit.Model.__init__(self, name = \"BezaireSoltesz_CA1model\")\n",
    "        self.result_path = os.path.join(model_path, results_dir, run_dir)\n",
    "        \n",
    "    def read_model_result(self, file_name):\n",
    "        file_path = os.path.join(self.result_path, file_name)\n",
    "        with open(file_path, 'r') as fp:\n",
    "            mod_data = np.genfromtxt(fp)\n",
    "        return mod_data    \n",
    "        \n",
    "    def model_prediction(self):\n",
    "        return self.spikeraster"
   ]
  },
  {
   "cell_type": "code",
   "execution_count": 7,
   "metadata": {
    "scrolled": true
   },
   "outputs": [
    {
     "data": {
      "image/png": "[encoded data removed]",
      "text/plain": [
       "<Figure size 576x432 with 4 Axes>"
      ]
     },
     "metadata": {
      "needs_background": "light"
     },
     "output_type": "display_data"
    }
   ],
   "source": [
    "model = BezaireSoltesz_CA1model(run_dir = 'run_Sasaki_Scale_100_SimDuration_20_Procs_8')\n",
    "\n",
    "fig, ax = plt.subplots(2, 2, figsize=(8,6))\n",
    "\n",
    "spikeraster_data = model.read_model_result('spikeraster_0.dat')\n",
    "ax[0,0].plot(spikeraster_data[:,0], spikeraster_data[:,1], 'o')\n",
    "ax[0,0].set(ylabel='Neuron ID', xlabel ='Time (ms)', xlim = [0,20])\n",
    "\n",
    "neuron_slice_data = model.read_model_result('neuron_slice_ids.dat')\n",
    "ax[1,0].plot(neuron_slice_data[:,1], neuron_slice_data[:,0], 'o')\n",
    "ax[1,0].set(ylabel='Pyramidal neuron ID', xlabel='Slice')\n",
    "\n",
    "# Filtering out the Pyramidal neurons from the spikeraster data\n",
    "pyr_spikes_inds = np.in1d(spikeraster_data[:,1], neuron_slice_data[:,0])\n",
    "pyr_spikeraster_data = spikeraster_data[pyr_spikes_inds,:]\n",
    "ax[0,1].plot(pyr_spikeraster_data[:,0], pyr_spikeraster_data[:,1], 'o')\n",
    "ax[0,1].set(ylabel='Pyramidal neuron ID', xlabel ='Time (ms)', xlim = [0,20])\n",
    "\n",
    "# Filtering out the Pyramidal neurons from the slicing data \n",
    "pyr_slices_inds = np.in1d(neuron_slice_data[:,0], pyr_spikeraster_data[:,1])\n",
    "ax[1,1].plot(neuron_slice_data[pyr_slices_inds,1], neuron_slice_data[pyr_slices_inds,0], 'o')\n",
    "ax[1,1].set(ylabel='Pyr. spiking neuron ID', xlabel='Slice')\n",
    "\n",
    "fig.tight_layout()"
   ]
  },
  {
   "cell_type": "markdown",
   "metadata": {},
   "source": [
    "# Define the Score"
   ]
  },
  {
   "cell_type": "code",
   "execution_count": null,
   "metadata": {},
   "outputs": [],
   "source": [
    "import sciunit.utils as utils\n",
    "import quantities as pq\n",
    "\n",
    "from scipy.stats import power_divergence\n",
    "from collections import namedtuple\n",
    "\n",
    "NeymanResult = namedtuple('NeymanResult', ('statistic_n', 'pvalue'))\n",
    "class NeymanScore(sciunit.Score):\n",
    "    \"\"\"\n",
    "    A Neyman score. A float giving the result of\n",
    "    a Neyman goodness-of-fit test\n",
    "    \"\"\"\n",
    "\n",
    "    _allowed_types = (float,tuple,)\n",
    "\n",
    "    _description = ('A Neyman score. A float giving the result'\n",
    "                    'of a Neyman goodness-of-fit test')\n",
    "\n",
    "    @classmethod\n",
    "    def compute(cls, observation, prediction):\n",
    "        \"\"\"\n",
    "        Computes a Neyman score from an observation and a prediction.\n",
    "        \"\"\"\n",
    "\n",
    "        obs_values = observation[~np.isnan(observation)]\n",
    "        pred_values = prediction[~np.isnan(prediction)]\n",
    "\n",
    "        '''\n",
    "        assert(all(x<=1.00 for x in obs_values) and all(x<=1.00 for x in pred_values)), \\\n",
    "            \"Probabiltity values should not be larger than 1.0\"\n",
    "        obs_values *= 100\n",
    "        pred_values *= 100\n",
    "        '''\n",
    "        \n",
    "        if type(obs_values) is pq.quantity.Quantity:\n",
    "            obs_values = obs_values.magnitude\n",
    "        if type(pred_values) is pq.quantity.Quantity:\n",
    "            pred_values = pred_values.magnitude\n",
    "\n",
    "        Neyman_Result = power_divergence(f_obs=pred_values, f_exp=obs_values, lambda_='neyman')\n",
    "\n",
    "        utils.assert_dimensionless(Neyman_Result.statistic)\n",
    "        utils.assert_dimensionless(Neyman_Result.pvalue)\n",
    "\n",
    "        # Obtaining a score value normalized respect to the mean and std of the Chi-squared distribution\n",
    "        dof = len(obs_values)-1  # degrees of freedom for the Chi-squared distribution\n",
    "        stat = Neyman_Result.statistic\n",
    "        chisq_mean = dof\n",
    "        chisq_std = np.sqrt(2*dof)\n",
    "        stat_n = abs(stat-chisq_mean)/chisq_std\n",
    "        Neyman_result = NeymanResult(stat_n, Neyman_Result.pvalue)\n",
    "\n",
    "        return NeymanScore(Neyman_result)\n",
    "\n",
    "    @property\n",
    "    def sort_key(self):\n",
    "        return self.score\n",
    "\n",
    "    def __str__(self):\n",
    "        return 'Neyman-score = %.5f' % self.score.statistic_n"
   ]
  },
  {
   "cell_type": "markdown",
   "metadata": {},
   "source": [
    "# Define the Test"
   ]
  },
  {
   "cell_type": "code",
   "execution_count": null,
   "metadata": {},
   "outputs": [],
   "source": [
    "import sciunit.scores as sci_scores\n",
    "import math"
   ]
  },
  {
   "cell_type": "code",
   "execution_count": null,
   "metadata": {},
   "outputs": [],
   "source": [
    "class Sasaki_experiment_test(sciunit.Test):\n",
    "    \n",
    "    score_type = sciunit.Score\n",
    "    \n",
    "    def __init__(self, observation=None, name=\"Sasaki_experiment_test\", base_directory=None):\n",
    "\n",
    "        self.description = \"tests model features related with Sasaki experiment\"\n",
    "        require_capabilities = cap_generates_spikeraster\n",
    "\n",
    "        if not base_directory:\n",
    "            base_directory = \".\"\n",
    "        self.path_test_output = base_directory\n",
    "        # create output directory\n",
    "        if not os.path.exists(self.path_test_output):\n",
    "            os.makedirs(self.path_test_output)\n",
    "\n",
    "        self.figures = []\n",
    "        sciunit.Test.__init__(self, observation, name)\n",
    "        self.observation = observation\n",
    "           \n",
    "    def generate_prediction(self, model, verbose=False):\n",
    "        \"\"\"Implementation of sciunit.Test.generate_prediction\"\"\"\n",
    "\n",
    "        model_dict = model.model_prediction()    \n",
    "        model_key = list(model_dict.keys())[0]\n",
    "        prediction_val = np.array(model_dict[model_key])\n",
    "\n",
    "        observation_key = list(self.observation.keys())[0]\n",
    "        prediction_val = prediction_val[0:len(self.observation[observation_key])] #corrects length, take out later\n",
    "        prediction_dict = {model_key: prediction_val}\n",
    "        \n",
    "        return prediction_dict\n",
    "      \n",
    "    def compute_score(self, observation, prediction, verbose=True):\n",
    "        \"\"\"Implementation of sciunit.Test.score_prediction\"\"\"\n",
    "\n",
    "        #Computing the scores - kept for more keys in observation\n",
    "        #cell_t = list(observation.keys())[0]  # Cell type\n",
    "        #score_cell_dict = dict.fromkeys([key0 for key0 in prediction.keys()], [])\n",
    "        #obs_features = copy.deepcopy(list(observation.values()))[0]\n",
    "        #score_feat_dict = dict()\n",
    "\n",
    "        # compare prediction against observation\n",
    "        prediction_key = list(prediction.keys())[0]\n",
    "        observation_key = list(observation.keys())[0]\n",
    "        score = sum(map(abs,observation[observation_key] - prediction[prediction_key]))/len(observation[observation_key])\n",
    "        self.score = round(score[0], 10)\n",
    "        \n",
    "        # ---------------------- Saving relevant results ----------------------\n",
    "        # Saving figures\n",
    "        fig_prediction = plt.plot(prediction[prediction_key])\n",
    "        fig_observation = plt.plot(observation[observation_key])\n",
    "        self.figures.extend([fig_prediction,fig_observation])\n",
    "\n",
    "        '''\n",
    "        # Saving json file with scores\n",
    "        json_scores_file = mph_plots.jsonFile_MorphStats(testObj=self, dictData=self.score_feat_dict,\n",
    "                                                         prefix_name=\"scores_summary_\")\n",
    "        json_scores_files = json_scores_file.create()\n",
    "        self.figures.extend(json_scores_files)\n",
    "\n",
    "        # Saving table with results\n",
    "        txt_table = mph_plots.TxtTable_MorphStats(testObj=self)\n",
    "        table_files = txt_table.create()\n",
    "        self.figures.extend(table_files)\n",
    "\n",
    "        # Saving figure with scores bar-plot\n",
    "        barplot_figure = mph_plots.ScoresBars_MorphStats(testObj=self)\n",
    "        barplot_files = barplot_figure.create()\n",
    "        self.figures.extend(barplot_files)\n",
    "        '''\n",
    "\n",
    "        return sciunit.Score(self.score)\n",
    "    \n",
    "    def bind_score(self, score, model, observation, prediction):\n",
    "        score.related_data[\"figures\"] = self.figures\n",
    "        return score"
   ]
  },
  {
   "cell_type": "markdown",
   "metadata": {},
   "source": [
    "# Run the Test"
   ]
  },
  {
   "cell_type": "code",
   "execution_count": null,
   "metadata": {},
   "outputs": [],
   "source": [
    "test=Sasaki_experiment_test(observation)"
   ]
  },
  {
   "cell_type": "code",
   "execution_count": null,
   "metadata": {},
   "outputs": [],
   "source": [
    "test.judge(model)"
   ]
  }
 ],
 "metadata": {
  "kernelspec": {
   "display_name": "Python 3 (ipykernel)",
   "language": "python",
   "name": "python3"
  },
  "language_info": {
   "codemirror_mode": {
    "name": "ipython",
    "version": 3
   },
   "file_extension": ".py",
   "mimetype": "text/x-python",
   "name": "python",
   "nbconvert_exporter": "python",
   "pygments_lexer": "ipython3",
   "version": "3.7.10"
  }
 },
 "nbformat": 4,
 "nbformat_minor": 4
}
